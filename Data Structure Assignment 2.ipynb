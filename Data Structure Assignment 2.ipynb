{
 "cells": [
  {
   "cell_type": "markdown",
   "id": "ac6c314d-5a6a-4a27-b7d1-509236b6bcc5",
   "metadata": {},
   "source": [
    "Q1. How do you comment code in Python? What are the different types of comments?"
   ]
  },
  {
   "cell_type": "markdown",
   "id": "b394ef2e-94f9-44bb-bb8a-e753a9151897",
   "metadata": {},
   "source": [
    "Comments in Python are identified with a hash symbol, #.\n",
    "There are two types of comments: single line comment and multipline comments."
   ]
  },
  {
   "cell_type": "code",
   "execution_count": null,
   "id": "5756d09f-24b1-4520-8aa8-3e6e60645181",
   "metadata": {},
   "outputs": [],
   "source": []
  },
  {
   "cell_type": "markdown",
   "id": "307ce835-b96f-4b11-846d-ccc559c4af85",
   "metadata": {},
   "source": [
    "Q2. What are variables in Python? How do you declare and assign values to variables?"
   ]
  },
  {
   "cell_type": "code",
   "execution_count": 2,
   "id": "19a14225-311b-48f2-8c57-8d64c453d5bb",
   "metadata": {},
   "outputs": [
    {
     "name": "stdout",
     "output_type": "stream",
     "text": [
      "15\n",
      "sachin\n"
     ]
    }
   ],
   "source": [
    "# A variable is a string of characters and numbers associated with a piece of information.\n",
    "# The assignment operator, denoted by the “=” symbol, is the operator that is used to assign values to variables in Python\n",
    "# using following example we can understand\n",
    "\n",
    "a=15\n",
    "b='sachin'\n",
    "print(a)\n",
    "print(b)\n"
   ]
  },
  {
   "cell_type": "code",
   "execution_count": null,
   "id": "e06162c5-2d14-49e0-8e77-097db99bad97",
   "metadata": {},
   "outputs": [],
   "source": []
  },
  {
   "cell_type": "markdown",
   "id": "48cd2648-1570-411d-bc77-ccb3adf72842",
   "metadata": {},
   "source": [
    "Q3. How do you convert one data type to another in Python?"
   ]
  },
  {
   "cell_type": "code",
   "execution_count": 12,
   "id": "8930d2fa-3a2e-40b5-a5cb-c256935f4c16",
   "metadata": {},
   "outputs": [
    {
     "name": "stdout",
     "output_type": "stream",
     "text": [
      "287\n",
      "<class 'int'>\n",
      "<class 'str'>\n"
     ]
    }
   ],
   "source": [
    "a=287\n",
    "print(a)\n",
    "print(type(a))\n",
    "\n",
    "a1=str(a)\n",
    "print(type(a1))"
   ]
  },
  {
   "cell_type": "code",
   "execution_count": null,
   "id": "dc138dcc-e6aa-4b69-9527-b87a24a0b086",
   "metadata": {},
   "outputs": [],
   "source": []
  },
  {
   "cell_type": "markdown",
   "id": "afdb13b6-dcf3-424e-8112-9cba592cb8b4",
   "metadata": {},
   "source": [
    "Q4. How do you write and execute a Python script from the command line?"
   ]
  },
  {
   "cell_type": "markdown",
   "id": "61382baa-d324-489c-b9da-e8723a66a356",
   "metadata": {},
   "source": [
    "In Python Interactive Mode, you can run your script line by line in a sequence. To enter an interactive mode, you will have to open Command Prompt on your Windows machine and type ' python ' and press Enter ."
   ]
  },
  {
   "cell_type": "code",
   "execution_count": null,
   "id": "8803a7ff-4e0c-4b58-9a3e-9c9cf804d53c",
   "metadata": {},
   "outputs": [],
   "source": []
  },
  {
   "cell_type": "markdown",
   "id": "f9119a54-615d-4059-a0d5-6ca04e00a74b",
   "metadata": {},
   "source": [
    "Q5. Given a list my_list = [1, 2, 3, 4, 5], write the code to slice the list and obtain the sub-list [2, 3]."
   ]
  },
  {
   "cell_type": "code",
   "execution_count": 15,
   "id": "b9f47d0e-f8c7-4854-b63e-4f1d80f7add2",
   "metadata": {},
   "outputs": [
    {
     "data": {
      "text/plain": [
       "[2, 3]"
      ]
     },
     "execution_count": 15,
     "metadata": {},
     "output_type": "execute_result"
    }
   ],
   "source": [
    "my_list=[1,2,3,4,5]\n",
    "\n",
    "my_list[1:3]"
   ]
  },
  {
   "cell_type": "code",
   "execution_count": null,
   "id": "e62bb3ca-a2b4-493a-892d-bbfea12fea55",
   "metadata": {},
   "outputs": [],
   "source": []
  },
  {
   "cell_type": "markdown",
   "id": "ee04a6fd-0544-4cfa-940e-1d6d486e7b0d",
   "metadata": {},
   "source": [
    "Q6. What is a complex number in mathematics, and how is it represented in Python?"
   ]
  },
  {
   "cell_type": "code",
   "execution_count": 26,
   "id": "0859869a-da08-4eaa-8362-ead2612a1464",
   "metadata": {},
   "outputs": [
    {
     "name": "stdout",
     "output_type": "stream",
     "text": [
      "<class 'complex'>\n"
     ]
    }
   ],
   "source": [
    "# In mathematics, a number which is express in the form of \"a+bi\" where \"a\" and \"b\" is real nuber and i is imaginarry number. \n",
    "# But in python , complex number express as \"a+bj\" where \"a\" and \"b\" is real number and \"j\" is imaginarry number.\n",
    "# Example\n",
    "\n",
    "a=34+4j\n",
    "print(type(a))"
   ]
  },
  {
   "cell_type": "code",
   "execution_count": null,
   "id": "b1d0b96e-8bba-4d3e-8f86-414d6b9a9ce4",
   "metadata": {},
   "outputs": [],
   "source": []
  },
  {
   "cell_type": "markdown",
   "id": "8bbf8ba9-6610-401b-a565-e30447fa8f30",
   "metadata": {},
   "source": [
    "Q7. What is the correct way to declare a variable named age and assign the value 25 to it?"
   ]
  },
  {
   "cell_type": "code",
   "execution_count": 28,
   "id": "e78ac4bb-b34c-46f4-bde9-f283fff62e08",
   "metadata": {},
   "outputs": [
    {
     "name": "stdout",
     "output_type": "stream",
     "text": [
      "25\n"
     ]
    }
   ],
   "source": [
    "age=25\n",
    "print(age)"
   ]
  },
  {
   "cell_type": "code",
   "execution_count": null,
   "id": "f44f0fb2-0a31-459c-b86b-e1d29c1b9d66",
   "metadata": {},
   "outputs": [],
   "source": []
  },
  {
   "cell_type": "markdown",
   "id": "9dba3127-975e-4d85-87fa-340299dfe5e6",
   "metadata": {},
   "source": [
    "Q8. Declare a variable named price and assign the value 9.99 to it. What data type does this variable\n",
    "belong to?"
   ]
  },
  {
   "cell_type": "code",
   "execution_count": 29,
   "id": "7c59024b-e029-4721-8364-ae3483f2d021",
   "metadata": {},
   "outputs": [
    {
     "name": "stdout",
     "output_type": "stream",
     "text": [
      "9.99\n",
      "<class 'float'>\n"
     ]
    }
   ],
   "source": [
    "price=9.99\n",
    "print(price)\n",
    "print(type(price))"
   ]
  },
  {
   "cell_type": "code",
   "execution_count": null,
   "id": "a844efae-9fff-42a4-8032-c9f23055b1b3",
   "metadata": {},
   "outputs": [],
   "source": []
  },
  {
   "cell_type": "markdown",
   "id": "740536fb-ad45-4123-8769-f4cfb7072a02",
   "metadata": {},
   "source": [
    "Q9. Create a variable named name and assign your full name to it as a string. How would you print the\n",
    "value of this variable?"
   ]
  },
  {
   "cell_type": "code",
   "execution_count": 33,
   "id": "644bb555-ce41-4dc0-96a3-491fc4ed0a3e",
   "metadata": {},
   "outputs": [
    {
     "name": "stdout",
     "output_type": "stream",
     "text": [
      "sachin patil\n"
     ]
    }
   ],
   "source": [
    "name=\"sachin patil\"\n",
    "print(name)"
   ]
  },
  {
   "cell_type": "code",
   "execution_count": null,
   "id": "84177aac-98c3-4eea-b06e-563f389e87ab",
   "metadata": {},
   "outputs": [],
   "source": []
  },
  {
   "cell_type": "markdown",
   "id": "1c6244ac-d5cc-422b-9b03-f2353d65fc00",
   "metadata": {},
   "source": [
    "Q10. Given the string \"Hello, World!\", extract the substring \"World\"."
   ]
  },
  {
   "cell_type": "code",
   "execution_count": 40,
   "id": "78aeeff9-ae02-4ef6-8aa6-a3912ae168f4",
   "metadata": {},
   "outputs": [
    {
     "data": {
      "text/plain": [
       "'World'"
      ]
     },
     "execution_count": 40,
     "metadata": {},
     "output_type": "execute_result"
    }
   ],
   "source": [
    "s=\"Hello, World!\"\n",
    "\n",
    "s[7:12]"
   ]
  },
  {
   "cell_type": "code",
   "execution_count": null,
   "id": "ab92430a-7200-43cc-a4eb-ed7f63ae8d00",
   "metadata": {},
   "outputs": [],
   "source": []
  },
  {
   "cell_type": "markdown",
   "id": "9e4114a5-0f77-45f7-88c2-1e968ccafcd9",
   "metadata": {},
   "source": [
    "Q11. Create a variable named \"is_student\" and assign it a boolean value indicating whether you are\n",
    "currently a student or not."
   ]
  },
  {
   "cell_type": "code",
   "execution_count": 36,
   "id": "d6376566-172c-4d04-96ed-36af81e0babf",
   "metadata": {},
   "outputs": [
    {
     "name": "stdout",
     "output_type": "stream",
     "text": [
      "currently not student\n"
     ]
    }
   ],
   "source": [
    "is_student = False\n",
    "\n",
    "if (is_student==True):\n",
    "    print('currently student')\n",
    "else:\n",
    "    print('currently not student')\n"
   ]
  },
  {
   "cell_type": "code",
   "execution_count": 99,
   "id": "93c7a23a-4ebd-4be3-a899-b7ca38f3c3f0",
   "metadata": {},
   "outputs": [
    {
     "data": {
      "text/plain": [
       "bool"
      ]
     },
     "execution_count": 99,
     "metadata": {},
     "output_type": "execute_result"
    }
   ],
   "source": [
    "type(is_student)"
   ]
  },
  {
   "cell_type": "code",
   "execution_count": null,
   "id": "d51c87f4-050f-4b67-94eb-e9c6097fa434",
   "metadata": {},
   "outputs": [],
   "source": []
  }
 ],
 "metadata": {
  "kernelspec": {
   "display_name": "Python 3 (ipykernel)",
   "language": "python",
   "name": "python3"
  },
  "language_info": {
   "codemirror_mode": {
    "name": "ipython",
    "version": 3
   },
   "file_extension": ".py",
   "mimetype": "text/x-python",
   "name": "python",
   "nbconvert_exporter": "python",
   "pygments_lexer": "ipython3",
   "version": "3.10.8"
  }
 },
 "nbformat": 4,
 "nbformat_minor": 5
}
