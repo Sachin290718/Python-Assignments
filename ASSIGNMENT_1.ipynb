{
 "cells": [
  {
   "cell_type": "markdown",
   "id": "987a6ab0-1019-45bf-b870-b5a0ce749722",
   "metadata": {},
   "source": [
    "Q1. Create one variable containing following type of data:\n",
    "(i)string\n",
    "(ii)list\n",
    "(iii)float\n",
    "(iv)tuple"
   ]
  },
  {
   "cell_type": "code",
   "execution_count": 3,
   "id": "de89135e-d70b-41c3-9634-67764be61b65",
   "metadata": {},
   "outputs": [
    {
     "name": "stdout",
     "output_type": "stream",
     "text": [
      "<class 'str'>\n",
      "<class 'list'>\n",
      "<class 'float'>\n",
      "<class 'tuple'>\n"
     ]
    }
   ],
   "source": [
    "a = \"pwskills\"\n",
    "b = [1,2,5,6,32.21,'sachin',True]\n",
    "c = 33.52\n",
    "d = (\"abc\", 34, True, 40, \"male\")\n",
    "print(type(a))\n",
    "print(type(b))\n",
    "print(type(c))\n",
    "print(type(d))"
   ]
  },
  {
   "cell_type": "code",
   "execution_count": null,
   "id": "5c8e51ee-18bc-46ae-846e-82c9c4af596c",
   "metadata": {},
   "outputs": [],
   "source": []
  },
  {
   "cell_type": "markdown",
   "id": "bf70c5eb-99b4-4c1f-9672-783453a9e3b9",
   "metadata": {},
   "source": [
    "Q2. Given are some following variables containing data:\n",
    "(i)\tvar1 = ‘ ‘\n",
    "(ii)var2 = ‘[ DS , ML , Python]’\n",
    "(iii)var3 = [ ‘DS’ , ’ML’ , ‘Python’ ]\n",
    "(iv)var4 = 1.\n",
    "\n",
    "What will be the data type of the above given variable."
   ]
  },
  {
   "cell_type": "code",
   "execution_count": 9,
   "id": "a9219d10-d75e-4dd2-87d2-8a386ffbe560",
   "metadata": {},
   "outputs": [
    {
     "name": "stdout",
     "output_type": "stream",
     "text": [
      "<class 'str'>\n",
      "<class 'str'>\n",
      "<class 'list'>\n",
      "<class 'int'>\n"
     ]
    }
   ],
   "source": [
    "var1=''\n",
    "var2='[DS,ML,Python]'\n",
    "var3= ['DS','ML','Python']\n",
    "var4 = 1\n",
    "\n",
    "print(type(var1))\n",
    "print(type(var2))\n",
    "print(type(var3))\n",
    "print(type(var4))"
   ]
  },
  {
   "cell_type": "code",
   "execution_count": null,
   "id": "8ae4a802-8179-44a0-86d0-1584fcec1b2f",
   "metadata": {},
   "outputs": [],
   "source": []
  },
  {
   "cell_type": "markdown",
   "id": "a1756b17-cca0-487d-8411-adaa3fa03228",
   "metadata": {},
   "source": [
    "Q3. Explain the use of the following operators using an example:\n",
    "(i)\t/\n",
    "(ii)% \n",
    "(iii)//\n",
    "(iv)**"
   ]
  },
  {
   "cell_type": "code",
   "execution_count": 17,
   "id": "4e207e22-6e01-4e55-b8a8-a12d1eebab2f",
   "metadata": {},
   "outputs": [
    {
     "name": "stdout",
     "output_type": "stream",
     "text": [
      "3.0\n",
      "3\n",
      "4\n",
      "64\n"
     ]
    }
   ],
   "source": [
    "# a) / \n",
    "# above operator is Arithmetic division operator and it is use for simple division operation of numbers. \n",
    "# Example\n",
    "a = 12\n",
    "b = 4\n",
    "print(a/b)\n",
    "\n",
    "# b) %\n",
    "# above operator is Arithmetic Modulus operator and it gives remainder value in division.\n",
    "#Example\n",
    "c = 35\n",
    "d = 8\n",
    "print(c%d)\n",
    "\n",
    "# c) //\n",
    "# above operator is Arithmetic Division Floor operator and it gives the quotient is rounded down to the nearest integer value.\n",
    "#Example\n",
    "e = 37\n",
    "f = 9\n",
    "print(e//f)\n",
    "\n",
    "# d) **\n",
    "# above operator is Arithmetic Exponenat/Power Operator and it multiple the base number upto the power we given.\n",
    "#Example\n",
    "g = 4\n",
    "print(g**3)\n"
   ]
  },
  {
   "cell_type": "code",
   "execution_count": null,
   "id": "3a9add5b-8c4e-4af8-aeb2-06f081908b7e",
   "metadata": {},
   "outputs": [],
   "source": []
  },
  {
   "cell_type": "markdown",
   "id": "a226c6c1-6bdc-4771-841c-adc7c485dcee",
   "metadata": {},
   "source": [
    "Q4.Create a list of length 10 of your choice containing multiple types of data. Using for loop print the \n",
    "element and its data type."
   ]
  },
  {
   "cell_type": "code",
   "execution_count": 19,
   "id": "271cd56b-1229-4495-bb57-95570391e693",
   "metadata": {},
   "outputs": [
    {
     "name": "stdout",
     "output_type": "stream",
     "text": [
      "1\n",
      "<class 'int'>\n",
      "22.51\n",
      "<class 'float'>\n",
      "5\n",
      "<class 'int'>\n",
      "8\n",
      "<class 'int'>\n",
      "mayur\n",
      "<class 'str'>\n",
      "True\n",
      "<class 'bool'>\n",
      "35.48\n",
      "<class 'float'>\n",
      "False\n",
      "<class 'bool'>\n",
      "sham\n",
      "<class 'str'>\n",
      "(3+4j)\n",
      "<class 'complex'>\n"
     ]
    }
   ],
   "source": [
    "l = [1,22.51,5,8,'mayur',True,35.48,False,'sham',3+4j]\n",
    "for i in l:\n",
    "    print(i)\n",
    "    print(type(i))"
   ]
  },
  {
   "cell_type": "markdown",
   "id": "f23b037f-8eb3-4c4c-8d3a-8cc354e67b7a",
   "metadata": {},
   "source": [
    "Q5. Using a while loop, verify if the number A is purely divisible by number B and if so then how many \n",
    "times it can be divisible."
   ]
  },
  {
   "cell_type": "code",
   "execution_count": 1,
   "id": "1f19b20a-4d27-4220-a372-76c873f89a94",
   "metadata": {},
   "outputs": [
    {
     "name": "stdin",
     "output_type": "stream",
     "text": [
      " 8\n",
      " 2\n"
     ]
    },
    {
     "name": "stdout",
     "output_type": "stream",
     "text": [
      "4\n",
      "2\n",
      "1\n",
      "a is not divisible by b\n"
     ]
    }
   ],
   "source": [
    "a=int(input())\n",
    "b=int(input())\n",
    "c=a//b\n",
    "while c>0:\n",
    "    print(c)\n",
    "    c = c // b\n",
    "    \n",
    "    \n",
    "else:\n",
    "    print('a is not divisible by b')\n",
    "   \n",
    "\n",
    "    "
   ]
  },
  {
   "cell_type": "code",
   "execution_count": 2,
   "id": "be83860d-be10-4fd3-af4a-0d7345a332fb",
   "metadata": {},
   "outputs": [
    {
     "name": "stdin",
     "output_type": "stream",
     "text": [
      " 16\n",
      " 2\n"
     ]
    },
    {
     "name": "stdout",
     "output_type": "stream",
     "text": [
      "8.0\n",
      "4.0\n",
      "2.0\n",
      "1.0\n",
      "a is not divisible by b\n"
     ]
    }
   ],
   "source": [
    "a=int(input())\n",
    "b=int(input())\n",
    "c=a/b\n",
    "while c>=1:\n",
    "    print(c)\n",
    "    c = c/b\n",
    "        \n",
    "else:\n",
    "    print('a is not divisible by b')"
   ]
  },
  {
   "cell_type": "code",
   "execution_count": null,
   "id": "61767d4b-e719-434d-9054-ea62e0dbcfe4",
   "metadata": {},
   "outputs": [],
   "source": []
  },
  {
   "cell_type": "markdown",
   "id": "9e87f5f0-dd62-42f2-a967-9ed6ae4dcb9e",
   "metadata": {},
   "source": [
    "Q6. Create a list containing 25 int type data. Using for loop and if-else condition print if the element is \n",
    "divisible by 3 or not."
   ]
  },
  {
   "cell_type": "code",
   "execution_count": 12,
   "id": "77c33f79-c32d-49df-ae73-c9894d4f0bcd",
   "metadata": {},
   "outputs": [
    {
     "name": "stdout",
     "output_type": "stream",
     "text": [
      "1\n",
      "Number is not divisible by 3\n",
      "2\n",
      "Number is not divisible by 3\n",
      "3\n",
      "Number is divisible by 3\n",
      "4\n",
      "Number is not divisible by 3\n",
      "5\n",
      "Number is not divisible by 3\n",
      "6\n",
      "Number is divisible by 3\n",
      "7\n",
      "Number is not divisible by 3\n",
      "8\n",
      "Number is not divisible by 3\n",
      "9\n",
      "Number is divisible by 3\n",
      "10\n",
      "Number is not divisible by 3\n",
      "11\n",
      "Number is not divisible by 3\n",
      "12\n",
      "Number is divisible by 3\n",
      "13\n",
      "Number is not divisible by 3\n",
      "14\n",
      "Number is not divisible by 3\n",
      "15\n",
      "Number is divisible by 3\n",
      "16\n",
      "Number is not divisible by 3\n",
      "17\n",
      "Number is not divisible by 3\n",
      "18\n",
      "Number is divisible by 3\n",
      "19\n",
      "Number is not divisible by 3\n",
      "20\n",
      "Number is not divisible by 3\n",
      "21\n",
      "Number is divisible by 3\n",
      "22\n",
      "Number is not divisible by 3\n",
      "23\n",
      "Number is not divisible by 3\n",
      "24\n",
      "Number is divisible by 3\n",
      "25\n",
      "Number is not divisible by 3\n"
     ]
    }
   ],
   "source": [
    "l = list(range(1,26))\n",
    "for i in l:\n",
    "    print(i)\n",
    "    i = i % 3\n",
    "    if i == 0:\n",
    "        print('Number is divisible by 3')\n",
    "    else:\n",
    "        print('Number is not divisible by 3')\n",
    "    "
   ]
  },
  {
   "cell_type": "code",
   "execution_count": null,
   "id": "b5a45a2c-9653-405d-a827-555e3b1d723d",
   "metadata": {},
   "outputs": [],
   "source": []
  },
  {
   "cell_type": "markdown",
   "id": "afd13120-2f60-4b7c-9066-0d7752b28f12",
   "metadata": {},
   "source": [
    "Q7. What do you understand about mutable and immutable data types? Give examples for both showing \n",
    "this property"
   ]
  },
  {
   "cell_type": "code",
   "execution_count": 25,
   "id": "23778742-9da6-4820-9231-6685c3634303",
   "metadata": {},
   "outputs": [
    {
     "name": "stdout",
     "output_type": "stream",
     "text": [
      "[1, 2, 33, 'pwskills', 32.15, True, (3+4j)]\n"
     ]
    }
   ],
   "source": [
    "# Mutable : Mutable objects are those that allow you to change their value or data in place without affecting the object's identity.\n",
    "# Example : List\n",
    "p = [1,2,3,'pwskills',32.15,True,3+4j]\n",
    "p[2]=33\n",
    "print(p)"
   ]
  },
  {
   "cell_type": "code",
   "execution_count": 26,
   "id": "575299ea-5454-4acb-b965-c19c67b61d74",
   "metadata": {},
   "outputs": [
    {
     "ename": "TypeError",
     "evalue": "'str' object does not support item assignment",
     "output_type": "error",
     "traceback": [
      "\u001b[0;31m---------------------------------------------------------------------------\u001b[0m",
      "\u001b[0;31mTypeError\u001b[0m                                 Traceback (most recent call last)",
      "Cell \u001b[0;32mIn[26], line 4\u001b[0m\n\u001b[1;32m      1\u001b[0m \u001b[38;5;66;03m# Immutable : Immutable objects are those that not allow you to change their value in place.\u001b[39;00m\n\u001b[1;32m      2\u001b[0m \u001b[38;5;66;03m# Example : String\u001b[39;00m\n\u001b[1;32m      3\u001b[0m y \u001b[38;5;241m=\u001b[39m \u001b[38;5;124m'\u001b[39m\u001b[38;5;124mpwskills\u001b[39m\u001b[38;5;124m'\u001b[39m\n\u001b[0;32m----> 4\u001b[0m \u001b[43my\u001b[49m\u001b[43m[\u001b[49m\u001b[38;5;241;43m2\u001b[39;49m\u001b[43m]\u001b[49m \u001b[38;5;241m=\u001b[39m \u001b[38;5;124m'\u001b[39m\u001b[38;5;124ma\u001b[39m\u001b[38;5;124m'\u001b[39m\n\u001b[1;32m      5\u001b[0m \u001b[38;5;28mprint\u001b[39m(y)\n",
      "\u001b[0;31mTypeError\u001b[0m: 'str' object does not support item assignment"
     ]
    }
   ],
   "source": [
    "# Immutable : Immutable objects are those that not allow you to change their value in place.\n",
    "# Example : String\n",
    "y = 'pwskills'\n",
    "y[2] = 'a'\n",
    "print(y)"
   ]
  },
  {
   "cell_type": "code",
   "execution_count": null,
   "id": "aee0a6c1-40a4-4266-9029-81cc8ab0cd16",
   "metadata": {},
   "outputs": [],
   "source": []
  }
 ],
 "metadata": {
  "kernelspec": {
   "display_name": "Python 3 (ipykernel)",
   "language": "python",
   "name": "python3"
  },
  "language_info": {
   "codemirror_mode": {
    "name": "ipython",
    "version": 3
   },
   "file_extension": ".py",
   "mimetype": "text/x-python",
   "name": "python",
   "nbconvert_exporter": "python",
   "pygments_lexer": "ipython3",
   "version": "3.10.8"
  }
 },
 "nbformat": 4,
 "nbformat_minor": 5
}
